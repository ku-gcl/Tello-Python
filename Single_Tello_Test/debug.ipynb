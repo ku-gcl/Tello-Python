{
 "cells": [
  {
   "cell_type": "markdown",
   "metadata": {},
   "source": [
    "#### data split"
   ]
  },
  {
   "cell_type": "code",
   "execution_count": 2,
   "metadata": {},
   "outputs": [
    {
     "data": {
      "text/plain": [
       "b'pitch:0;roll:179;yaw:3;vgx:0;vgy:0;vgz:0;templ:51;temph:54;tof:186;h:0;bat:84;baro:122.26;time:0;agx:1.00;agy:-3.00;agz:996.00;\\r\\n'"
      ]
     },
     "execution_count": 2,
     "metadata": {},
     "output_type": "execute_result"
    }
   ],
   "source": [
    "state = b'pitch:0;roll:179;yaw:3;vgx:0;vgy:0;vgz:0;templ:51;temph:54;tof:186;h:0;bat:84;baro:122.26;time:0;agx:1.00;agy:-3.00;agz:996.00;\\r\\n'\n",
    "state"
   ]
  },
  {
   "cell_type": "code",
   "execution_count": 17,
   "metadata": {},
   "outputs": [
    {
     "name": "stdout",
     "output_type": "stream",
     "text": [
      "b'pitch:0;roll:179;yaw:3;vgx:0;vgy:0;vgz:0;templ:51;temph:54;tof:186;h:0;bat:84;baro:122.26;time:0;agx:1.00;agy:-3.00;agz:996.00;\\r\\n'\n",
      "[0.0, 179.0, 3.0, 0.0, 0.0, 0.0, 51.0, 54.0, 186.0, 0.0, 84.0, 122.26, 0.0, 1.0, -3.0, 996.0]\n"
     ]
    }
   ],
   "source": [
    "# str(state).split(':').split(';')\n",
    "result = []\n",
    "\n",
    "print(state)\n",
    "data_list = str(state).split(';')\n",
    "data_name = ['pitch', 'roll', 'yaw', 'vgx', 'vgy', 'vgz', 'templ', 'temph', 'tof', 'h', 'bat', 'baro', 'time', 'agx', 'agy', 'agz']\n",
    "for ii in range(len(data_name)):\n",
    "    data = data_list[ii]\n",
    "    name = data.split(':')[0]       # data name\n",
    "    value = float(data.split(':')[1])      # data value\n",
    "    # Removing \"b'  \" for the bytes like character at the beggining of the string\n",
    "    if ii == 0:\n",
    "        name = name.replace(\"b'\", \"\")\n",
    "    # append the data to list\n",
    "    if name == data_name[ii]:\n",
    "        result.append(value)\n",
    "print(result)"
   ]
  },
  {
   "cell_type": "code",
   "execution_count": 20,
   "metadata": {},
   "outputs": [
    {
     "data": {
      "text/html": [
       "<div>\n",
       "<style scoped>\n",
       "    .dataframe tbody tr th:only-of-type {\n",
       "        vertical-align: middle;\n",
       "    }\n",
       "\n",
       "    .dataframe tbody tr th {\n",
       "        vertical-align: top;\n",
       "    }\n",
       "\n",
       "    .dataframe thead th {\n",
       "        text-align: right;\n",
       "    }\n",
       "</style>\n",
       "<table border=\"1\" class=\"dataframe\">\n",
       "  <thead>\n",
       "    <tr style=\"text-align: right;\">\n",
       "      <th></th>\n",
       "      <th>pitch</th>\n",
       "      <th>roll</th>\n",
       "      <th>yaw</th>\n",
       "      <th>vgx</th>\n",
       "      <th>vgy</th>\n",
       "      <th>vgz</th>\n",
       "      <th>templ</th>\n",
       "      <th>temph</th>\n",
       "      <th>tof</th>\n",
       "      <th>h</th>\n",
       "      <th>bat</th>\n",
       "      <th>baro</th>\n",
       "      <th>time</th>\n",
       "      <th>agx</th>\n",
       "      <th>agy</th>\n",
       "      <th>agz</th>\n",
       "    </tr>\n",
       "  </thead>\n",
       "  <tbody>\n",
       "    <tr>\n",
       "      <th>0</th>\n",
       "      <td>0.0</td>\n",
       "      <td>179.0</td>\n",
       "      <td>3.0</td>\n",
       "      <td>0.0</td>\n",
       "      <td>0.0</td>\n",
       "      <td>0.0</td>\n",
       "      <td>51.0</td>\n",
       "      <td>54.0</td>\n",
       "      <td>186.0</td>\n",
       "      <td>0.0</td>\n",
       "      <td>84.0</td>\n",
       "      <td>122.26</td>\n",
       "      <td>0.0</td>\n",
       "      <td>1.0</td>\n",
       "      <td>-3.0</td>\n",
       "      <td>996.0</td>\n",
       "    </tr>\n",
       "  </tbody>\n",
       "</table>\n",
       "</div>"
      ],
      "text/plain": [
       "   pitch   roll  yaw  vgx  vgy  vgz  templ  temph    tof    h   bat    baro  \\\n",
       "0    0.0  179.0  3.0  0.0  0.0  0.0   51.0   54.0  186.0  0.0  84.0  122.26   \n",
       "\n",
       "   time  agx  agy    agz  \n",
       "0   0.0  1.0 -3.0  996.0  "
      ]
     },
     "execution_count": 20,
     "metadata": {},
     "output_type": "execute_result"
    }
   ],
   "source": [
    "import pandas as pd\n",
    "df = pd.DataFrame([result], columns=data_name)\n",
    "df"
   ]
  },
  {
   "cell_type": "markdown",
   "metadata": {},
   "source": [
    "Threading"
   ]
  },
  {
   "cell_type": "code",
   "execution_count": null,
   "metadata": {},
   "outputs": [],
   "source": [
    "import threading\n",
    "import time\n",
    "\n",
    "def get_data():\n",
    "    try:"
   ]
  },
  {
   "cell_type": "markdown",
   "metadata": {},
   "source": [
    "making immediately stop function"
   ]
  },
  {
   "cell_type": "code",
   "execution_count": 5,
   "metadata": {},
   "outputs": [
    {
     "data": {
      "text/plain": [
       "['command\\n', 'delay 2\\n', 'alttitude?\\n', 'delay 2']"
      ]
     },
     "execution_count": 5,
     "metadata": {},
     "output_type": "execute_result"
    }
   ],
   "source": [
    "import os\n",
    "import time\n",
    "file_path = '/Users/tatsuya_1/Documents/Tello-Python/Single_Tello_Test'\n",
    "file_name = os.path.join(file_path, 'command_debug.txt')\n",
    "f = open(file_name, \"r\")\n",
    "commands = f.readlines()\n",
    "commands"
   ]
  },
  {
   "cell_type": "code",
   "execution_count": 10,
   "metadata": {},
   "outputs": [
    {
     "name": "stdout",
     "output_type": "stream",
     "text": [
      "command\n",
      "delay 2.0\n",
      "alttitude?\n",
      "delay 2.0\n"
     ]
    }
   ],
   "source": [
    "ii = 0\n",
    "try:\n",
    "    while ii < len(commands):\n",
    "        command = commands[ii]\n",
    "        if command != '' and command != '\\n':\n",
    "            command = command.rstrip()\n",
    "            if command.find('delay') != -1:\n",
    "                sec = float(command.partition('delay')[2])\n",
    "                print('delay %s' % sec)\n",
    "                time.sleep(sec)\n",
    "                pass\n",
    "            else:\n",
    "                print(command)\n",
    "                # tello.send_commad(command)\n",
    "        ii += 1\n",
    "except(KeyboardInterrupt, SystemExit):\n",
    "    print (\"Detect Ctrl+C\")\n",
    "    # drone.land()"
   ]
  },
  {
   "cell_type": "markdown",
   "metadata": {},
   "source": [
    "learn tello.py"
   ]
  },
  {
   "cell_type": "code",
   "execution_count": 1,
   "metadata": {},
   "outputs": [
    {
     "name": "stdout",
     "output_type": "stream",
     "text": [
      "['command\\n', 'takeoff\\n', 'up 100\\n', 'stop\\n', 'land']\n"
     ]
    }
   ],
   "source": [
    "\"\"\"\"\n",
    "This codes are for practice\n",
    "\"\"\"\n",
    "from tello import Tello\n",
    "import sys\n",
    "from datetime import datetime\n",
    "import time\n",
    "\n",
    "start_time = str(datetime.now())\n",
    "\n",
    "file_name = '/Users/tatsuya_1/Documents/Tello-Python/Single_Tello_Test/command.txt'\n",
    "# file_name = sys.argv[1]\n",
    "\n",
    "f = open(file_name, \"r\")\n",
    "commands = f.readlines()\n",
    "print(commands)\n"
   ]
  },
  {
   "cell_type": "code",
   "execution_count": 2,
   "metadata": {},
   "outputs": [
    {
     "name": "stdout",
     "output_type": "stream",
     "text": [
      "command\n",
      "takeoff\n",
      "up 100\n",
      "stop\n",
      "land\n"
     ]
    }
   ],
   "source": [
    "for command in commands:\n",
    "    if command != '' and command != '\\n':\n",
    "        command = command.rstrip()\n",
    "        print(command)\n",
    "        if command.find('delay') != -1:\n",
    "            sec = float(command.partition('delay')[2])\n",
    "            print('delay %s' % sec)\n",
    "            time.sleep(sec)\n",
    "            pass\n",
    "        # else:\n",
    "            # tello.send_command(command)\n"
   ]
  },
  {
   "cell_type": "code",
   "execution_count": 3,
   "metadata": {},
   "outputs": [
    {
     "data": {
      "text/plain": [
       "('land', '', '')"
      ]
     },
     "execution_count": 3,
     "metadata": {},
     "output_type": "execute_result"
    }
   ],
   "source": [
    "command \n",
    "command.partition('up 100')"
   ]
  },
  {
   "cell_type": "code",
   "execution_count": null,
   "metadata": {},
   "outputs": [],
   "source": []
  }
 ],
 "metadata": {
  "interpreter": {
   "hash": "b5c57e8338aefeca51f023e33ac242e22c20471a5fc1809c1ab7c63d9f7af9d7"
  },
  "kernelspec": {
   "display_name": "Python 3 (ipykernel)",
   "language": "python",
   "name": "python3"
  },
  "language_info": {
   "codemirror_mode": {
    "name": "ipython",
    "version": 3
   },
   "file_extension": ".py",
   "mimetype": "text/x-python",
   "name": "python",
   "nbconvert_exporter": "python",
   "pygments_lexer": "ipython3",
   "version": "3.9.12"
  },
  "orig_nbformat": 4
 },
 "nbformat": 4,
 "nbformat_minor": 2
}
