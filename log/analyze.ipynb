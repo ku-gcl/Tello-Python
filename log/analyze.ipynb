{
 "cells": [
  {
   "cell_type": "markdown",
   "metadata": {},
   "source": [
    "# data split"
   ]
  },
  {
   "cell_type": "code",
   "execution_count": null,
   "metadata": {},
   "outputs": [],
   "source": [
    "state = b'pitch:0;roll:179;yaw:3;vgx:0;vgy:0;vgz:0;templ:51;temph:54;tof:186;h:0;bat:84;baro:122.26;time:0;agx:1.00;agy:-3.00;agz:996.00;\\r\\n'\n",
    "state"
   ]
  },
  {
   "cell_type": "code",
   "execution_count": null,
   "metadata": {},
   "outputs": [],
   "source": [
    "# str(state).split(':').split(';')\n",
    "result = []\n",
    "\n",
    "print(state)\n",
    "data_list = str(state).split(';')\n",
    "data_name = ['pitch', 'roll', 'yaw', 'vgx', 'vgy', 'vgz', 'templ', 'temph', 'tof', 'h', 'bat', 'baro', 'time', 'agx', 'agy', 'agz']\n",
    "for ii in range(len(data_name)):\n",
    "    data = data_list[ii]\n",
    "    name = data.split(':')[0]       # data name\n",
    "    value = float(data.split(':')[1])      # data value\n",
    "    # Removing \"b'  \" for the bytes like character at the beggining of the string\n",
    "    if ii == 0:\n",
    "        name = name.replace(\"b'\", \"\")\n",
    "    # append the data to list\n",
    "    if name == data_name[ii]:\n",
    "        result.append(value)\n",
    "print(result)"
   ]
  },
  {
   "cell_type": "markdown",
   "metadata": {},
   "source": [
    "import pandas as pd\n",
    "df = pd.DataFrame([result], columns=data_name)\n",
    "df"
   ]
  },
  {
   "cell_type": "markdown",
   "metadata": {},
   "source": [
    "# Threading"
   ]
  },
  {
   "cell_type": "code",
   "execution_count": null,
   "metadata": {},
   "outputs": [],
   "source": [
    "import threading\n",
    "import time\n",
    "\n",
    "def get_data():\n",
    "    try:"
   ]
  },
  {
   "cell_type": "markdown",
   "metadata": {},
   "source": [
    "# making immdiately stop function"
   ]
  },
  {
   "cell_type": "markdown",
   "metadata": {},
   "source": [
    "import os\n",
    "import time\n",
    "file_path = '/Users/tatsuya_1/Documents/Tello-Python/Single_Tello_Test'\n",
    "file_name = os.path.join(file_path, 'command_debug.txt')\n",
    "f = open(file_name, \"r\")\n",
    "commands = f.readlines()\n",
    "commands"
   ]
  },
  {
   "cell_type": "code",
   "execution_count": null,
   "metadata": {},
   "outputs": [],
   "source": [
    "ii = 0\n",
    "try:\n",
    "    while ii < len(commands):\n",
    "        command = commands[ii]\n",
    "        if command != '' and command != '\\n':\n",
    "            command = command.rstrip()\n",
    "            if command.find('delay') != -1:\n",
    "                sec = float(command.partition('delay')[2])\n",
    "                print('delay %s' % sec)\n",
    "                time.sleep(sec)\n",
    "                pass\n",
    "            else:\n",
    "                print(command)\n",
    "                # tello.send_commad(command)\n",
    "        ii += 1\n",
    "except(KeyboardInterrupt, SystemExit):\n",
    "    print (\"Detect Ctrl+C\")\n",
    "    # drone.land()"
   ]
  },
  {
   "cell_type": "markdown",
   "metadata": {},
   "source": [
    "# Learn Tello.py"
   ]
  },
  {
   "cell_type": "code",
   "execution_count": null,
   "metadata": {},
   "outputs": [],
   "source": [
    "\"\"\"\"\n",
    "This codes are for practice\n",
    "\"\"\"\n",
    "from tello import Tello\n",
    "import sys\n",
    "from datetime import datetime\n",
    "import time\n",
    "\n",
    "start_time = str(datetime.now())\n",
    "\n",
    "file_name = '/Users/tatsuya_1/Documents/Tello-Python/Single_Tello_Test/command.txt'\n",
    "# file_name = sys.argv[1]\n",
    "\n",
    "f = open(file_name, \"r\")\n",
    "commands = f.readlines()\n",
    "print(commands)\n"
   ]
  },
  {
   "cell_type": "code",
   "execution_count": null,
   "metadata": {},
   "outputs": [],
   "source": [
    "for command in commands:\n",
    "    if command != '' and command != '\\n':\n",
    "        command = command.rstrip()\n",
    "        print(command)\n",
    "        if command.find('delay') != -1:\n",
    "            sec = float(command.partition('delay')[2])\n",
    "            print('delay %s' % sec)\n",
    "            time.sleep(sec)\n",
    "            pass\n",
    "        # else:\n",
    "            # tello.send_command(command)\n"
   ]
  },
  {
   "cell_type": "code",
   "execution_count": null,
   "metadata": {},
   "outputs": [],
   "source": [
    "command \n",
    "command.partition('up 100')"
   ]
  },
  {
   "cell_type": "markdown",
   "metadata": {},
   "source": []
  }
 ],
 "metadata": {
  "language_info": {
   "name": "python"
  }
 },
 "nbformat": 4,
 "nbformat_minor": 2
}
